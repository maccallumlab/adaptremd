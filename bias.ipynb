{
 "cells": [
  {
   "cell_type": "code",
   "execution_count": 69,
   "metadata": {
    "collapsed": true
   },
   "outputs": [],
   "source": [
    "import math\n",
    "import random\n",
    "import numpy as np\n",
    "from matplotlib import pyplot as pp\n",
    "%matplotlib inline"
   ]
  },
  {
   "cell_type": "code",
   "execution_count": 2,
   "metadata": {
    "collapsed": true
   },
   "outputs": [],
   "source": [
    "R = 8.314e-3\n",
    "T1 = 10.\n",
    "T2 = 100.\n",
    "T3 = 1000."
   ]
  },
  {
   "cell_type": "markdown",
   "metadata": {
    "collapsed": true
   },
   "source": [
    "# Examination of Bias"
   ]
  },
  {
   "cell_type": "code",
   "execution_count": 10,
   "metadata": {
    "collapsed": true
   },
   "outputs": [],
   "source": [
    "def compute_coords(t, nsamp):\n",
    "    std = math.sqrt(R * t / 2.0)\n",
    "    x = np.random.normal(0, std, nsamp)\n",
    "    return x"
   ]
  },
  {
   "cell_type": "code",
   "execution_count": 26,
   "metadata": {
    "collapsed": false
   },
   "outputs": [],
   "source": [
    "def compute_stats(x1, x2, t1, t2):\n",
    "    E1 = x1**2\n",
    "    E2 = x2**2\n",
    "    \n",
    "    E11 = E1 / R / t1\n",
    "    E22 = E2 / R / t2\n",
    "    E12 = E1 / R / t2\n",
    "    E21 = E2 / R / t1\n",
    "    \n",
    "    delta = E11 + E22 - E12 - E21\n",
    "    acc = np.minimum(1.0, np.exp(delta))\n",
    "    \n",
    "    dA1 = (-E1 / R / t1**2 + E2 / R / t1**2) * acc\n",
    "    dA1[np.where(acc >= .999)] = 0.0\n",
    "\n",
    "    dA2 = (-E2 / R / t2**2 + E1 / R / t2**2) * acc\n",
    "    dA2[np.where(acc >= .999)] = 0.0\n",
    "    \n",
    "    dE1 = -E1 / R / t1**2\n",
    "    dE2 = -E2 / R / t2**2\n",
    "    \n",
    "    return acc, dA1, dA2, dE1, dE2"
   ]
  },
  {
   "cell_type": "code",
   "execution_count": 193,
   "metadata": {
    "collapsed": false
   },
   "outputs": [],
   "source": [
    "def compute_forces(x1, x2, t1, t2):\n",
    "    stats = compute_stats(x1, x2, t1, t2)\n",
    "    acc, dA1, dA2, dE1, dE2 = stats\n",
    "    n = float(dA1.shape[0])\n",
    "    \n",
    "    acc_mean = np.mean(acc)\n",
    "    dA1_mean = np.mean(dA1)\n",
    "    dA2_mean = np.mean(dA2)\n",
    "    dE1_mean = np.mean(dE1)\n",
    "    dE2_mean = np.mean(dE2)\n",
    "    A_dE1_mean = np.mean(acc * dE1)\n",
    "    A_dE2_mean = np.mean(acc * dE2)\n",
    "    \n",
    "    f1 = dA1_mean - n / (n - 1) * (A_dE1_mean - acc_mean * dE1_mean)\n",
    "    f2 = dA2_mean - n / (n - 1) * (A_dE2_mean - acc_mean * dE2_mean)\n",
    "\n",
    "    return f1, f2, acc_mean\n"
   ]
  },
  {
   "cell_type": "code",
   "execution_count": 194,
   "metadata": {
    "collapsed": false
   },
   "outputs": [
    {
     "data": {
      "text/plain": [
       "(0.020043694135905562, -0.0022376600030330398, 0.40093383292405876)"
      ]
     },
     "execution_count": 194,
     "metadata": {},
     "output_type": "execute_result"
    }
   ],
   "source": [
    "compute_forces(compute_coords(10., 100), compute_coords(100., 100), 10., 100.)"
   ]
  },
  {
   "cell_type": "code",
   "execution_count": 195,
   "metadata": {
    "collapsed": true
   },
   "outputs": [],
   "source": [
    "def compute_triple(x1, x2, x3, t1, t2, t3):\n",
    "    _, f1, a1 = compute_forces(x1, x2, t1, t2)\n",
    "    f2, _, a2 = compute_forces(x2, x3, t2, t3)\n",
    "    return a2 * f1 + a1 * f2"
   ]
  },
  {
   "cell_type": "code",
   "execution_count": 202,
   "metadata": {
    "collapsed": false
   },
   "outputs": [],
   "source": [
    "def compute_mean_force(t1, t2, t3, nsamp):\n",
    "    fs = []\n",
    "    for _ in range(4000):\n",
    "        f = compute_triple(\n",
    "                compute_coords(t1, nsamp),\n",
    "                compute_coords(t2, nsamp),\n",
    "                compute_coords(t3, nsamp),\n",
    "                t1, t2, t3)\n",
    "        fs.append(f)\n",
    "    return np.mean(fs)"
   ]
  },
  {
   "cell_type": "code",
   "execution_count": 203,
   "metadata": {
    "collapsed": false
   },
   "outputs": [
    {
     "data": {
      "text/plain": [
       "<matplotlib.lines.Line2D at 0x1123f0dd0>"
      ]
     },
     "execution_count": 203,
     "metadata": {},
     "output_type": "execute_result"
    },
    {
     "data": {
      "image/png": "[encoded data removed]",
      "text/plain": [
       "<matplotlib.figure.Figure at 0x11293d1d0>"
      ]
     },
     "metadata": {},
     "output_type": "display_data"
    }
   ],
   "source": [
    "\n",
    "xs = list(range(2, 65))\n",
    "y1s = []\n",
    "for x in xs:\n",
    "    y = compute_mean_force(10., 100., 1000., x)\n",
    "    y1s.append(y)\n",
    "pp.plot(xs, y1s)\n",
    "pp.axhline(compute_mean_force(10., 100., 1000., 2**10))"
   ]
  },
  {
   "cell_type": "code",
   "execution_count": null,
   "metadata": {
    "collapsed": true
   },
   "outputs": [],
   "source": []
  },
  {
   "cell_type": "code",
   "execution_count": null,
   "metadata": {
    "collapsed": true
   },
   "outputs": [],
   "source": []
  }
 ],
 "metadata": {
  "anaconda-cloud": {},
  "kernelspec": {
   "display_name": "Python [default]",
   "language": "python",
   "name": "python2"
  },
  "language_info": {
   "codemirror_mode": {
    "name": "ipython",
    "version": 2
   },
   "file_extension": ".py",
   "mimetype": "text/x-python",
   "name": "python",
   "nbconvert_exporter": "python",
   "pygments_lexer": "ipython2",
   "version": "2.7.12"
  }
 },
 "nbformat": 4,
 "nbformat_minor": 1
}
